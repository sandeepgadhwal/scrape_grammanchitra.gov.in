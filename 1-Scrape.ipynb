{
 "cells": [
  {
   "cell_type": "code",
   "execution_count": 4,
   "metadata": {},
   "outputs": [],
   "source": [
    "import requests\n",
    "import json\n",
    "import os"
   ]
  },
  {
   "cell_type": "code",
   "execution_count": null,
   "metadata": {},
   "outputs": [],
   "source": []
  },
  {
   "cell_type": "code",
   "execution_count": 5,
   "metadata": {},
   "outputs": [],
   "source": [
    "map_url = \"https://grammanchitra.gov.in/#\""
   ]
  },
  {
   "cell_type": "code",
   "execution_count": 6,
   "metadata": {},
   "outputs": [],
   "source": [
    "config_url = \"https://grammanchitra.gov.in/js/config.js\""
   ]
  },
  {
   "cell_type": "code",
   "execution_count": 7,
   "metadata": {},
   "outputs": [],
   "source": [
    "r = requests.get(config_url)"
   ]
  },
  {
   "cell_type": "code",
   "execution_count": 8,
   "metadata": {},
   "outputs": [],
   "source": [
    "token = r.text.split('dlayertoken = \"')[1].split('\"')[0].strip()"
   ]
  },
  {
   "cell_type": "code",
   "execution_count": 9,
   "metadata": {},
   "outputs": [
    {
     "data": {
      "text/plain": [
       "'Swk5CQCB-pnToLpxQlCjkPshu0eLdlAEE6dHaV7CeMT--7V02xPX0kvbHJG-1iaS59xv8Vev63mhjQ-nsmpYTQ..'"
      ]
     },
     "execution_count": 9,
     "metadata": {},
     "output_type": "execute_result"
    }
   ],
   "source": [
    "token"
   ]
  },
  {
   "cell_type": "code",
   "execution_count": 10,
   "metadata": {},
   "outputs": [],
   "source": [
    "mod_headers = {\n",
    "    \"referer\": map_url,\n",
    "    \"User-Agent\": \"Mozilla/5.0 (Windows NT 10.0; Win64; x64) AppleWebKit/537.36 (KHTML, like Gecko) Chrome/86.0.4240.183 Safari/537.36 Edg/86.0.622.63\"\n",
    "}"
   ]
  },
  {
   "cell_type": "code",
   "execution_count": null,
   "metadata": {},
   "outputs": [],
   "source": []
  },
  {
   "cell_type": "code",
   "execution_count": 11,
   "metadata": {},
   "outputs": [],
   "source": [
    "layers = [\n",
    "    \"https://mapservice.gov.in/mapserviceserv176/rest/services/Panchayat/panchayat_admin/MapServer\"\n",
    "]"
   ]
  },
  {
   "cell_type": "code",
   "execution_count": 12,
   "metadata": {},
   "outputs": [],
   "source": [
    "params = {\n",
    "    \"Token\": token,\n",
    "    \"f\": \"pjson\"\n",
    "}"
   ]
  },
  {
   "cell_type": "code",
   "execution_count": 13,
   "metadata": {},
   "outputs": [],
   "source": [
    "max_record_count_mapping = {\n",
    "    0: 1,\n",
    "    1: 50,\n",
    "    2: 100,\n",
    "    3: 300,\n",
    "    7: 300\n",
    "}"
   ]
  },
  {
   "cell_type": "code",
   "execution_count": 14,
   "metadata": {},
   "outputs": [],
   "source": [
    "output_folder = \"output\""
   ]
  },
  {
   "cell_type": "code",
   "execution_count": null,
   "metadata": {},
   "outputs": [],
   "source": []
  },
  {
   "cell_type": "code",
   "execution_count": null,
   "metadata": {},
   "outputs": [],
   "source": []
  },
  {
   "cell_type": "code",
   "execution_count": 15,
   "metadata": {},
   "outputs": [],
   "source": [
    "def make_folder(folderpath):\n",
    "    if folderpath == \"\":\n",
    "        return\n",
    "    if not os.path.exists(os.path.dirname(folderpath)):\n",
    "        make_folder(os.path.dirname(folderpath))\n",
    "    if not os.path.exists(folderpath):\n",
    "        os.mkdir(folderpath)"
   ]
  },
  {
   "cell_type": "code",
   "execution_count": 16,
   "metadata": {},
   "outputs": [],
   "source": [
    "def scrape(layer_url):\n",
    "    metadata = requests.get(layer_url, params=params, verify=False, headers=mod_headers).json()\n",
    "#     print(metadata)\n",
    "    # Make Folder\n",
    "    folderpath  = os.path.join(os.path.abspath(output_folder), 'scrape', metadata['name'])\n",
    "    make_folder(folderpath)\n",
    "    # Scrape Now\n",
    "    max_record_count = metadata['maxRecordCount']\n",
    "    _max_record_count = max_record_count_mapping.get(metadata['id'], max_record_count)\n",
    "    print(\"-- Using max_record_count: \", _max_record_count)\n",
    "    gparams = {\n",
    "        \"Token\": token,\n",
    "        \"f\": \"json\",\n",
    "        \"where\": \"1=1\",\n",
    "        \"returnGeometry\": 'true',\n",
    "        \"returnTrueCurves\": 'true',\n",
    "        \"spatialRel\": \"\",\n",
    "        \"geometry\": \"\",\n",
    "        \"geometryType\": \"\",\n",
    "        \"esriGeometryEnvelope\": \"\",\n",
    "        \"outFields\": \"*\",\n",
    "        \"resultOffset\": 0,\n",
    "        \"resultRecordCount\": _max_record_count\n",
    "    }\n",
    "    # Get Count\n",
    "    count = requests.get(layer_url+'/query', params={**gparams, 'returnCountOnly':True}, verify=False, headers=mod_headers).json()['count']\n",
    "    print(\"-- Total Features: \", count)\n",
    "    # Iterate\n",
    "    for i in range(0, count, _max_record_count):\n",
    "        print(f'-- Scrapping: Progress {(i/count):0.2f} %', end='\\r')\n",
    "        gparams[\"resultOffset\"] = i\n",
    "#         features = requests.get(layer_url+'/query', params=gparams, verify=False, headers=mod_headers).json()\n",
    "#         feature_path = os.path.join(folderpath, f\"{i}_{i+_max_record_count}.json\")\n",
    "#         print(feature_path)\n",
    "#         with open(feature_path, 'w') as f:\n",
    "#             json.dump(features, f)\n",
    "    print(f'-- Scrapping: Progress 100 %', end='\\n')"
   ]
  },
  {
   "cell_type": "code",
   "execution_count": null,
   "metadata": {
    "scrolled": true
   },
   "outputs": [
    {
     "name": "stderr",
     "output_type": "stream",
     "text": [
      "C:\\Users\\san10428\\AppData\\Local\\ESRI\\conda\\envs\\dl\\lib\\site-packages\\urllib3\\connectionpool.py:988: InsecureRequestWarning: Unverified HTTPS request is being made to host 'mapservice.gov.in'. Adding certificate verification is strongly advised. See: https://urllib3.readthedocs.io/en/latest/advanced-usage.html#ssl-warnings\n",
      "  InsecureRequestWarning,\n"
     ]
    },
    {
     "name": "stdout",
     "output_type": "stream",
     "text": [
      "\n",
      "-- Scrapping State https://mapservice.gov.in/mapserviceserv176/rest/services/Panchayat/panchayat_admin/MapServer/0\n"
     ]
    },
    {
     "name": "stderr",
     "output_type": "stream",
     "text": [
      "C:\\Users\\san10428\\AppData\\Local\\ESRI\\conda\\envs\\dl\\lib\\site-packages\\urllib3\\connectionpool.py:988: InsecureRequestWarning: Unverified HTTPS request is being made to host 'mapservice.gov.in'. Adding certificate verification is strongly advised. See: https://urllib3.readthedocs.io/en/latest/advanced-usage.html#ssl-warnings\n",
      "  InsecureRequestWarning,\n"
     ]
    },
    {
     "name": "stdout",
     "output_type": "stream",
     "text": [
      "-- Using max_record_count:  1\n"
     ]
    },
    {
     "name": "stderr",
     "output_type": "stream",
     "text": [
      "C:\\Users\\san10428\\AppData\\Local\\ESRI\\conda\\envs\\dl\\lib\\site-packages\\urllib3\\connectionpool.py:988: InsecureRequestWarning: Unverified HTTPS request is being made to host 'mapservice.gov.in'. Adding certificate verification is strongly advised. See: https://urllib3.readthedocs.io/en/latest/advanced-usage.html#ssl-warnings\n",
      "  InsecureRequestWarning,\n"
     ]
    }
   ],
   "source": [
    "for server_url in layers:\n",
    "    r = requests.get(server_url, params=params, verify=False, headers=mod_headers)\n",
    "    for lyr in r.json()['layers']:\n",
    "        msg = f\"\\n-- Scrapping {lyr['name']}\"\n",
    "        lyr_url = server_url+'/'+str(lyr['id'])\n",
    "        print(msg, lyr_url)\n",
    "        #\n",
    "#         metadata = requests.get(lyr_url, params=params, verify=False, headers=mod_headers).json()\n",
    "        scrape(lyr_url)"
   ]
  },
  {
   "cell_type": "code",
   "execution_count": null,
   "metadata": {},
   "outputs": [],
   "source": []
  },
  {
   "cell_type": "code",
   "execution_count": null,
   "metadata": {},
   "outputs": [],
   "source": []
  },
  {
   "cell_type": "code",
   "execution_count": null,
   "metadata": {},
   "outputs": [],
   "source": []
  }
 ],
 "metadata": {
  "kernelspec": {
   "display_name": "Python 3",
   "language": "python",
   "name": "python3"
  },
  "language_info": {
   "codemirror_mode": {
    "name": "ipython",
    "version": 3
   },
   "file_extension": ".py",
   "mimetype": "text/x-python",
   "name": "python",
   "nbconvert_exporter": "python",
   "pygments_lexer": "ipython3",
   "version": "3.7.9"
  }
 },
 "nbformat": 4,
 "nbformat_minor": 4
}
